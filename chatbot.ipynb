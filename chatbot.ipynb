{
 "cells": [
  {
   "cell_type": "code",
   "execution_count": null,
   "metadata": {},
   "outputs": [],
   "source": [
    "#This is a chatbot program"
   ]
  },
  {
   "cell_type": "code",
   "execution_count": null,
   "metadata": {},
   "outputs": [],
   "source": [
    "#import library\n",
    "from nltk.chat.util import Chat, reflections"
   ]
  },
  {
   "cell_type": "code",
   "execution_count": null,
   "metadata": {},
   "outputs": [],
   "source": [
    "pairs = [\n",
    "    ['my name is(.*)', ['hi %1']],\n",
    "    ['(hi|hello|hey|holla|hola)',['hey there', 'hi there', 'hello!']],\n",
    "    ['(.*) in (.*) is fun',['%1 in %2 is indeed fun']],\n",
    "    ['(.*)(location|city) ?', 'Tokeyo, Japan'],\n",
    "    ['(.*) created you?', ['Joshua Veasy did using NLTK']],\n",
    "    ['how is the weather in (.*)',['the weather in %1 is amazing as always']],\n",
    "    ['(.*)help(.*)', ['I can help you']],\n",
    "    ['(.*) your name ?', ['my name is J.A.R.V.I.S']],\n",
    "    ['tell me a fun fact', ['Did you know that honey never spoils? Archaeologists have found pots of honey in ancient tombs that are over 3,000 years old!']],\n",
    "    ['(.*) do you like (.*)', ['I don\\'t have preferences, but I love hearing about what others enjoy! What do you like?']],\n",
    "    ['(.*) is your favorite movie?', ['I don\\'t have a favorite movie, but I think *Inception* is a cool one. What about you?']],\n",
    "    ['(.*) are you?', ['I\\'m just a chatbot created to help and chat. How can I assist you today?']],\n",
    "    ['tell me a joke', ['Why don\\'t skeletons fight each other? They don\\'t have the guts!']],\n",
    "    ['(.*) can you do?', ['I can chat, tell jokes, help with problems, and answer questions. What can I help you with?']],\n",
    "    ['(.*) favorite color?', ['I don\\'t have a favorite color, but blue is a popular choice! What’s your favorite color?']],\n",
    "    ['what is (.*)', ['I can try to explain what %1 is. Could you clarify what you mean?']],\n",
    "    ['(.*) game?', ['Sure! How about a quick trivia or a word game? What game would you like to play?']],\n",
    "    ['(.*) can I do for fun?', ['How about trying a new hobby or playing a fun game? I can give suggestions if you want!']],\n",
    "    ['(.*) do you think of (.*)?', ['I think that %2 is really interesting! What do you like about it?']],\n",
    "    ['how old are you?', ['I don’t have an age, but I’m always learning new things. How old are you?']],\n",
    "    ['do you like music?', ['I love music! It has the power to make us feel so much. What kind of music do you like?']],\n",
    "    ['tell me a riddle', ['Alright, here’s a riddle: What has keys but can’t open locks? Can you guess?']],\n",
    "    ['what\\'s 2 + 2?', ['2 + 2 is 4. Simple math!']],\n",
    "    ['(.*) favorite book?', ['I don’t have favorites, but I’ve heard that *1984* by George Orwell is really thought-provoking. Do you have a favorite book?']],\n",
    "    ['(.*) do you believe in aliens?', ['It’s fascinating to think about life beyond Earth, but I don’t have beliefs. Do you think aliens exist?']],\n",
    "    ['(.*) solve puzzles?', ['I love puzzles! What kind of puzzle would you like me to solve?']],\n",
    "    ['(.*)', ['Sorry, I didn\\'t quite catch that. Can you ask something else?']]\n",
    "]\n"
   ]
  },
  {
   "cell_type": "code",
   "execution_count": null,
   "metadata": {},
   "outputs": [],
   "source": [
    "reflections"
   ]
  },
  {
   "cell_type": "code",
   "execution_count": null,
   "metadata": {},
   "outputs": [],
   "source": [
    "my_dummy_reflections = {\n",
    "    'go' : 'gone', \n",
    "    'hello': 'hey there'\n",
    "}"
   ]
  },
  {
   "cell_type": "code",
   "execution_count": null,
   "metadata": {},
   "outputs": [],
   "source": [
    "chat = Chat(pairs, my_dummy_reflections)\n",
    "#chat._substitute('go hello')\n",
    "chat.converse()\n"
   ]
  }
 ],
 "metadata": {
  "kernelspec": {
   "display_name": "Python 3",
   "language": "python",
   "name": "python3"
  },
  "language_info": {
   "codemirror_mode": {
    "name": "ipython",
    "version": 3
   },
   "file_extension": ".py",
   "mimetype": "text/x-python",
   "name": "python",
   "nbconvert_exporter": "python",
   "pygments_lexer": "ipython3",
   "version": "3.10.10"
  }
 },
 "nbformat": 4,
 "nbformat_minor": 2
}
