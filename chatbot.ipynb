{
 "cells": [
  {
   "cell_type": "code",
   "execution_count": null,
   "metadata": {},
   "outputs": [],
   "source": [
    "#This is a chatbot program"
   ]
  },
  {
   "cell_type": "code",
   "execution_count": null,
   "metadata": {},
   "outputs": [],
   "source": [
    "#import library\n",
    "from nltk.chat.util import Chat, reflections"
   ]
  },
  {
   "cell_type": "code",
   "execution_count": null,
   "metadata": {},
   "outputs": [],
   "source": [
    "pairs = [\n",
    "    ['my name is(.*)', ['hi %1']],\n",
    "    ['(hi|hello|hey|holla|hola)',['hey there', 'hi there', 'hello!']],\n",
    "    ['(.*) in (.*) is fun',['%1 in %2 is indeed fun']],\n",
    "    ['(.*)(location|city) ?', 'Tokeyo, Japan'],\n",
    "    ['(.*) created you?', ['Joshua Veasy did using NLTK']],\n",
    "    ['how is the weather in (.*)',['the weather in %1 is amazing as always']],\n",
    "    ['(.*)help(.*)', ['I can help you']],\n",
    "    ['(.*) your name ?', ['my name is J.A.R.V.I.S']],\n",
    "    ['tell me a fun fact', ['Did you know that honey never spoils? Archaeologists have found pots of honey in ancient tombs that are over 3,000 years old!']],\n",
    "    ['(.*)', ['Sorry, I didn\\'t quite catch that. Can you ask something else?']]\n",
    "    \n",
    "]"
   ]
  },
  {
   "cell_type": "code",
   "execution_count": null,
   "metadata": {},
   "outputs": [],
   "source": [
    "reflections"
   ]
  },
  {
   "cell_type": "code",
   "execution_count": null,
   "metadata": {},
   "outputs": [],
   "source": [
    "my_dummy_reflections = {\n",
    "    'go' : 'gone', \n",
    "    'hello': 'hey there'\n",
    "}"
   ]
  },
  {
   "cell_type": "code",
   "execution_count": null,
   "metadata": {},
   "outputs": [],
   "source": [
    "chat = Chat(pairs, my_dummy_reflections)\n",
    "#chat._substitute('go hello')\n",
    "chat.converse()\n"
   ]
  }
 ],
 "metadata": {
  "kernelspec": {
   "display_name": "Python 3",
   "language": "python",
   "name": "python3"
  },
  "language_info": {
   "codemirror_mode": {
    "name": "ipython",
    "version": 3
   },
   "file_extension": ".py",
   "mimetype": "text/x-python",
   "name": "python",
   "nbconvert_exporter": "python",
   "pygments_lexer": "ipython3",
   "version": "3.10.10"
  }
 },
 "nbformat": 4,
 "nbformat_minor": 2
}
